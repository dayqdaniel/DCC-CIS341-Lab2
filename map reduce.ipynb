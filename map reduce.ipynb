{
 "cells": [
  {
   "cell_type": "markdown",
   "metadata": {},
   "source": [
    "# prep"
   ]
  },
  {
   "cell_type": "code",
   "execution_count": 148,
   "metadata": {},
   "outputs": [],
   "source": [
    "import json\n",
    "import sys"
   ]
  },
  {
   "cell_type": "markdown",
   "metadata": {},
   "source": [
    "# map\n"
   ]
  },
  {
   "cell_type": "code",
   "execution_count": 149,
   "metadata": {},
   "outputs": [],
   "source": [
    "def map(file):\n",
    "    filetxt = open(file, \"r\", encoding='utf-8')\n",
    "\n",
    "    txtlines = filetxt.readlines()\n",
    "    start = None\n",
    "    end = None\n",
    "    i = 0\n",
    "    while start == None:\n",
    "        if txtlines[i] == '*** START OF THIS PROJECT GUTENBERG EBOOK ALICE’S ADVENTURES IN WONDERLAND ***\\n':\n",
    "            start = i + 1\n",
    "        else:\n",
    "            i += 1\n",
    "\n",
    "    while end == None:\n",
    "        if txtlines[i] == '*** END OF THIS PROJECT GUTENBERG EBOOK ALICE’S ADVENTURES IN WONDERLAND ***\\n':\n",
    "            end = i\n",
    "        else:\n",
    "            i += 1\n",
    "\n",
    "    #get rid of empty lines\n",
    "    story1 = [x[:-1] for x in txtlines[start:end] if x != '\\n']\n",
    "\n",
    "    allwords = []\n",
    "    for line in story1:\n",
    "        new = line.lower().split()\n",
    "        for word in new:\n",
    "            if word == '*':\n",
    "                continue\n",
    "            while not word[0].isalnum():\n",
    "                word = word[1:]\n",
    "            while not word[-1].isalnum():\n",
    "                word = word[:-1]\n",
    "            allwords += [(word, 1)]\n",
    "    \n",
    "    return allwords\n"
   ]
  },
  {
   "cell_type": "markdown",
   "metadata": {},
   "source": [
    "# reduce"
   ]
  },
  {
   "cell_type": "code",
   "execution_count": 165,
   "metadata": {},
   "outputs": [],
   "source": [
    "def reduce(wordsList):\n",
    "    wordcount = {}\n",
    "    sortcount = {}\n",
    "    for word in wordsList:\n",
    "        if word[0] in wordcount:\n",
    "            wordcount[word[0]] += 1\n",
    "        else:\n",
    "            wordcount[word[0]] = 1\n",
    "    sortcountlist = sorted(wordcount.items(), key=lambda x: x[1], reverse=True)\n",
    "    \n",
    "    for i in sortcountlist:\n",
    "        sortcount[i[0]] = i[1]\n",
    "    \n",
    "    words = json.dumps(sortcount)\n",
    "    jsondoc = open('wordcount.json', 'w')\n",
    "    jsondoc.write(words)\n",
    "    jsondoc.close()"
   ]
  },
  {
   "cell_type": "markdown",
   "metadata": {},
   "source": [
    "# run\n"
   ]
  },
  {
   "cell_type": "code",
   "execution_count": 166,
   "metadata": {},
   "outputs": [],
   "source": [
    "mapstep = map('C:\\\\Users\\\\Daniel Cui\\\\Documents\\\\alice.txt')\n",
    "reduce(mapstep)"
   ]
  },
  {
   "cell_type": "code",
   "execution_count": 140,
   "metadata": {},
   "outputs": [
    {
     "name": "stdout",
     "output_type": "stream",
     "text": [
      "1\n",
      "2\n",
      "3\n"
     ]
    }
   ],
   "source": [
    "    words = json.dumps(wordcount)\n",
    "    jsondoc = open('wordcount.json', 'w')\n",
    "    jsondoc.write(words)\n",
    "    jsondoc.close()"
   ]
  }
 ],
 "metadata": {
  "kernelspec": {
   "display_name": "Python 3",
   "language": "python",
   "name": "python3"
  },
  "language_info": {
   "codemirror_mode": {
    "name": "ipython",
    "version": 3
   },
   "file_extension": ".py",
   "mimetype": "text/x-python",
   "name": "python",
   "nbconvert_exporter": "python",
   "pygments_lexer": "ipython3",
   "version": "3.7.4"
  }
 },
 "nbformat": 4,
 "nbformat_minor": 2
}
